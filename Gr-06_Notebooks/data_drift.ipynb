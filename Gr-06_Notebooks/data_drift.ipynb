{
 "cells": [
  {
   "cell_type": "code",
   "execution_count": 11,
   "metadata": {},
   "outputs": [
    {
     "name": "stderr",
     "output_type": "stream",
     "text": [
      "<>:6: SyntaxWarning: invalid escape sequence '\\R'\n",
      "<>:7: SyntaxWarning: invalid escape sequence '\\R'\n",
      "<>:6: SyntaxWarning: invalid escape sequence '\\R'\n",
      "<>:7: SyntaxWarning: invalid escape sequence '\\R'\n",
      "C:\\Users\\HP\\AppData\\Local\\Temp\\ipykernel_19772\\1739674491.py:6: SyntaxWarning: invalid escape sequence '\\R'\n",
      "  train_data = pd.read_parquet(\"D:\\Rahul\\jio-files\\AIDS\\Quarter 4\\ML-ops\\ML_ops_project\\Gr-06_MLOPS_Project\\Project Code\\Datasets\\Processed\\credit_data_train.parquet\")\n",
      "C:\\Users\\HP\\AppData\\Local\\Temp\\ipykernel_19772\\1739674491.py:7: SyntaxWarning: invalid escape sequence '\\R'\n",
      "  prod_data = pd.read_parquet(\"D:\\Rahul\\jio-files\\AIDS\\Quarter 4\\ML-ops\\ML_ops_project\\Gr-06_MLOPS_Project\\Project Code\\Datasets\\Processed\\credit_data_prod.parquet\")\n"
     ]
    }
   ],
   "source": [
    "import numpy as np\n",
    "import pandas as pd\n",
    "from alibi_detect.cd import KSDrift\n",
    "\n",
    "# Load Train and Production Data from Parquet\n",
    "train_data = pd.read_parquet(\"D:\\Rahul\\jio-files\\AIDS\\Quarter 4\\ML-ops\\ML_ops_project\\Gr-06_MLOPS_Project\\Project Code\\Datasets\\Processed\\credit_data_train.parquet\")\n",
    "prod_data = pd.read_parquet(\"D:\\Rahul\\jio-files\\AIDS\\Quarter 4\\ML-ops\\ML_ops_project\\Gr-06_MLOPS_Project\\Project Code\\Datasets\\Processed\\credit_data_prod.parquet\")\n",
    "\n",
    "# Ensure both datasets have the same columns\n",
    "assert list(train_data.columns) == list(prod_data.columns), \"Column mismatch!\"\n",
    "\n",
    "# Convert to NumPy arrays\n",
    "X_train = train_data.to_numpy()\n",
    "X_prod = prod_data.to_numpy()\n",
    "\n",
    "# Initialize KS Drift Detector\n",
    "cd = KSDrift(X_train, p_val=0.05)  # p_val threshold for drift detection\n",
    "\n",
    "# Detect Drift\n",
    "drift_result = cd.predict(X_prod)\n"
   ]
  },
  {
   "cell_type": "code",
   "execution_count": 12,
   "metadata": {},
   "outputs": [],
   "source": [
    "# Actual feature names\n",
    "feature_names = [\n",
    "    \"Status of checking account\", \"Duration in months\", \"Credit history\", \"Purpose\", \n",
    "    \"Credit amount\", \"Savings account/bonds\", \"Employment duration\", \"Installment rate\", \n",
    "    \"Personal status and sex\", \"Other debtors/guarantors\", \"Present residence\", \"Property\", \n",
    "    \"Age\", \"Other installment plans\", \"Housing\", \"Number of existing credits\", \"Job\", \n",
    "    \"Dependents\", \"Telephone\", \"Foreign worker\", \"Extra Feature\"\n",
    "]"
   ]
  },
  {
   "cell_type": "code",
   "execution_count": 13,
   "metadata": {},
   "outputs": [
    {
     "name": "stdout",
     "output_type": "stream",
     "text": [
      "                       Feature  Distance   p-value Drift Detected\n",
      "0   Status of checking account  0.028333  0.999504             No\n",
      "1           Duration in months  0.098333  0.102750             No\n",
      "2               Credit history  0.055000  0.733331             No\n",
      "3                      Purpose  0.085000  0.215975             No\n",
      "4                Credit amount  0.093333  0.137514             No\n",
      "5        Savings account/bonds  0.020000  1.000000             No\n",
      "6          Employment duration  0.023333  0.999992             No\n",
      "7             Installment rate  0.043333  0.929149             No\n",
      "8      Personal status and sex  0.038333  0.974206             No\n",
      "9     Other debtors/guarantors  0.011667  1.000000             No\n",
      "10           Present residence  0.030000  0.998722             No\n",
      "11                    Property  0.075000  0.350163             No\n",
      "12                         Age  0.068333  0.465057             No\n",
      "13     Other installment plans  0.026667  0.999840             No\n",
      "14                     Housing  0.035000  0.989933             No\n",
      "15  Number of existing credits  0.020000  1.000000             No\n",
      "16                         Job  0.040000  0.962226             No\n",
      "17                  Dependents  0.051667  0.798538             No\n",
      "18                   Telephone  0.070000  0.434555             No\n",
      "19              Foreign worker  0.003333  1.000000             No\n",
      "20               Extra Feature  0.028333  0.999504             No\n"
     ]
    }
   ],
   "source": [
    "# Create DataFrame\n",
    "drift_details = pd.DataFrame({\n",
    "    \"Feature\": feature_names[:len(drift_result[\"data\"][\"distance\"])],  # Map actual feature names\n",
    "    \"Distance\": drift_result[\"data\"][\"distance\"],\n",
    "    \"p-value\": drift_result[\"data\"][\"p_val\"],\n",
    "    \"Drift Detected\": [\"Yes\" if p < drift_result[\"data\"][\"threshold\"] else \"No\" for p in drift_result[\"data\"][\"p_val\"]]\n",
    "})\n",
    "\n",
    "# Print DataFrame\n",
    "print(drift_details)"
   ]
  },
  {
   "cell_type": "code",
   "execution_count": null,
   "metadata": {},
   "outputs": [],
   "source": []
  }
 ],
 "metadata": {
  "kernelspec": {
   "display_name": "base",
   "language": "python",
   "name": "python3"
  },
  "language_info": {
   "codemirror_mode": {
    "name": "ipython",
    "version": 3
   },
   "file_extension": ".py",
   "mimetype": "text/x-python",
   "name": "python",
   "nbconvert_exporter": "python",
   "pygments_lexer": "ipython3",
   "version": "3.12.4"
  }
 },
 "nbformat": 4,
 "nbformat_minor": 2
}
